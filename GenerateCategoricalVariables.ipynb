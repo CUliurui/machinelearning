{
 "cells": [
  {
   "cell_type": "markdown",
   "metadata": {},
   "source": [
    "# Categorical Variables Generation"
   ]
  },
  {
   "cell_type": "markdown",
   "metadata": {},
   "source": [
    "When building Machine Learning algorithms it is very useful to test them under conditions in which we know exactly the properties and probability distributions of the data. \n",
    "\n",
    "In this course we will use extensive use of random\n",
    "sampling to investigate the behavior of ML procedures.\n",
    "\n",
    "As an example, in this notebook we will learn how to\n",
    "1. generate random categorical variables with their *natural* multinomial distribution\n",
    "2. test that our algorithm is really generating the expected distribution\n",
    "3. generate a categorical **dependent**  variable.\n",
    "4. compare the performance of a few different implementations.\n",
    "5. save results for later\n",
    "\n",
    "We will work in the reverse process (estimating the underlying probability distribution from sample data) on a separate notebook. "
   ]
  },
  {
   "cell_type": "markdown",
   "metadata": {},
   "source": [
    "## Preliminaries"
   ]
  },
  {
   "cell_type": "markdown",
   "metadata": {},
   "source": [
    "### Imports"
   ]
  },
  {
   "cell_type": "code",
   "execution_count": 1,
   "metadata": {
    "ExecuteTime": {
     "end_time": "2018-01-26T20:57:01.512436Z",
     "start_time": "2018-01-26T20:57:00.124285Z"
    }
   },
   "outputs": [],
   "source": [
    "import os\n",
    "import numpy as np\n",
    "import numpy.random as random\n",
    "import scipy.special as special\n",
    "import pandas as pd"
   ]
  },
  {
   "cell_type": "markdown",
   "metadata": {},
   "source": [
    "### Random Seed"
   ]
  },
  {
   "cell_type": "code",
   "execution_count": 2,
   "metadata": {
    "ExecuteTime": {
     "end_time": "2018-01-26T20:57:01.528035Z",
     "start_time": "2018-01-26T20:57:01.512436Z"
    }
   },
   "outputs": [],
   "source": [
    "seed=67421\n",
    "random.seed(seed)"
   ]
  },
  {
   "cell_type": "markdown",
   "metadata": {},
   "source": [
    "### Data Directories"
   ]
  },
  {
   "cell_type": "code",
   "execution_count": 3,
   "metadata": {
    "ExecuteTime": {
     "end_time": "2018-01-26T20:57:01.560833Z",
     "start_time": "2018-01-26T20:57:01.528035Z"
    }
   },
   "outputs": [],
   "source": [
    "base_data_dir=\"../../data\""
   ]
  },
  {
   "cell_type": "markdown",
   "metadata": {},
   "source": [
    "This creates a directory to save results for later"
   ]
  },
  {
   "cell_type": "code",
   "execution_count": 4,
   "metadata": {
    "ExecuteTime": {
     "end_time": "2018-01-26T20:57:01.574913Z",
     "start_time": "2018-01-26T20:57:01.560833Z"
    }
   },
   "outputs": [
    {
     "name": "stdout",
     "output_type": "stream",
     "text": [
      "Directory ../../data/ProbabilisticTools created.\n"
     ]
    }
   ],
   "source": [
    "data_dir=base_data_dir+\"/ProbabilisticTools\"\n",
    "if not os.path.exists(data_dir):\n",
    "    os.makedirs(data_dir)\n",
    "    print(\"Directory\",data_dir,\"created.\")"
   ]
  },
  {
   "cell_type": "markdown",
   "metadata": {},
   "source": [
    "## Generating  a Categorical Random Variable"
   ]
  },
  {
   "cell_type": "code",
   "execution_count": 5,
   "metadata": {
    "ExecuteTime": {
     "end_time": "2018-01-26T20:57:01.586931Z",
     "start_time": "2018-01-26T20:57:01.574913Z"
    }
   },
   "outputs": [],
   "source": [
    "categories=np.array([\"A\",\"B\",\"C\",\"D\"])"
   ]
  },
  {
   "cell_type": "markdown",
   "metadata": {},
   "source": [
    "We generate a random variale with a multinomial distribution\n",
    "$$\n",
    "    P(X=d) = P^x_d\n",
    "$$\n",
    "where $d=1,\\cdots,D$ runs over a $D$ possible  categories.\n",
    "\n",
    "There is no implied ordering or numerical relationship between de different categories, but\n",
    "$$\n",
    "    \\sum_{d=1}^D P^x_d =1\n",
    "$$\n",
    "as $X$ must belong to one, and only one of the categories"
   ]
  },
  {
   "cell_type": "code",
   "execution_count": 6,
   "metadata": {
    "ExecuteTime": {
     "end_time": "2018-01-26T20:57:01.615407Z",
     "start_time": "2018-01-26T20:57:01.586931Z"
    }
   },
   "outputs": [
    {
     "name": "stdout",
     "output_type": "stream",
     "text": [
      "D =  4\n"
     ]
    },
    {
     "data": {
      "text/plain": [
       "array([0.4 , 0.3 , 0.25, 0.05])"
      ]
     },
     "execution_count": 6,
     "metadata": {},
     "output_type": "execute_result"
    }
   ],
   "source": [
    "p_x=np.array([0.4,0.3,0.25,0.05])\n",
    "D=len(categories)\n",
    "print(\"D = \",D)\n",
    "p_x"
   ]
  },
  {
   "cell_type": "code",
   "execution_count": 7,
   "metadata": {
    "ExecuteTime": {
     "end_time": "2018-01-26T20:57:01.631432Z",
     "start_time": "2018-01-26T20:57:01.615407Z"
    }
   },
   "outputs": [],
   "source": [
    "N=1000"
   ]
  },
  {
   "cell_type": "markdown",
   "metadata": {},
   "source": [
    "Numpy has a `random.multinomial` variable that will return one-hot encoded samples of a multinomial variable"
   ]
  },
  {
   "cell_type": "code",
   "execution_count": 8,
   "metadata": {
    "ExecuteTime": {
     "end_time": "2018-01-26T20:57:01.647451Z",
     "start_time": "2018-01-26T20:57:01.631432Z"
    }
   },
   "outputs": [
    {
     "name": "stdout",
     "output_type": "stream",
     "text": [
      "Z_x.shape =  (1000, 4)\n"
     ]
    },
    {
     "data": {
      "text/plain": [
       "array([[1, 0, 0, 0],\n",
       "       [1, 0, 0, 0],\n",
       "       [0, 0, 1, 0],\n",
       "       [1, 0, 0, 0],\n",
       "       [0, 1, 0, 0],\n",
       "       [0, 0, 1, 0],\n",
       "       [0, 1, 0, 0],\n",
       "       [0, 1, 0, 0],\n",
       "       [0, 0, 1, 0],\n",
       "       [1, 0, 0, 0]])"
      ]
     },
     "execution_count": 8,
     "metadata": {},
     "output_type": "execute_result"
    }
   ],
   "source": [
    "Z_x=random.multinomial(1,p_x,N)\n",
    "print(\"Z_x.shape = \",Z_x.shape)\n",
    "Z_x[:10]"
   ]
  },
  {
   "cell_type": "markdown",
   "metadata": {},
   "source": [
    "The mean of $Z_x$ is the sample (empirical) probability \n",
    "distribution"
   ]
  },
  {
   "cell_type": "code",
   "execution_count": 9,
   "metadata": {
    "ExecuteTime": {
     "end_time": "2018-01-26T20:57:01.667476Z",
     "start_time": "2018-01-26T20:57:01.647451Z"
    }
   },
   "outputs": [
    {
     "data": {
      "text/plain": [
       "array([0.415, 0.297, 0.243, 0.045])"
      ]
     },
     "execution_count": 9,
     "metadata": {},
     "output_type": "execute_result"
    }
   ],
   "source": [
    "Z_x.mean(axis=0)"
   ]
  },
  {
   "cell_type": "markdown",
   "metadata": {},
   "source": [
    "We use `argmax` function to pick up with one of the variables is chosen in each sample"
   ]
  },
  {
   "cell_type": "code",
   "execution_count": 10,
   "metadata": {
    "ExecuteTime": {
     "end_time": "2018-01-26T20:57:01.683499Z",
     "start_time": "2018-01-26T20:57:01.667476Z"
    }
   },
   "outputs": [
    {
     "data": {
      "text/plain": [
       "array([0, 0, 2, 0, 1, 2, 1, 1, 2, 0])"
      ]
     },
     "execution_count": 10,
     "metadata": {},
     "output_type": "execute_result"
    }
   ],
   "source": [
    "xi=Z_x.argmax(axis=1)\n",
    "xi[:10]"
   ]
  },
  {
   "cell_type": "markdown",
   "metadata": {},
   "source": [
    "We can now assign the labels"
   ]
  },
  {
   "cell_type": "code",
   "execution_count": 11,
   "metadata": {
    "ExecuteTime": {
     "end_time": "2018-01-26T20:57:01.707530Z",
     "start_time": "2018-01-26T20:57:01.683499Z"
    }
   },
   "outputs": [
    {
     "data": {
      "text/plain": [
       "array(['A', 'A', 'C', 'A', 'B', 'C', 'B', 'B', 'C', 'A'], dtype='<U1')"
      ]
     },
     "execution_count": 11,
     "metadata": {},
     "output_type": "execute_result"
    }
   ],
   "source": [
    "X=categories[xi]\n",
    "X[:10]"
   ]
  },
  {
   "cell_type": "markdown",
   "metadata": {},
   "source": [
    "Let's check we got the right probability distribution"
   ]
  },
  {
   "cell_type": "code",
   "execution_count": 12,
   "metadata": {
    "ExecuteTime": {
     "end_time": "2018-01-26T20:57:01.735567Z",
     "start_time": "2018-01-26T20:57:01.711536Z"
    }
   },
   "outputs": [
    {
     "name": "stdout",
     "output_type": "stream",
     "text": [
      "index\tcategor\tp_X\tsample p_X\n",
      "0\tA\t0.4\t0.415\n",
      "1\tB\t0.3\t0.297\n",
      "2\tC\t0.25\t0.243\n",
      "3\tD\t0.05\t0.045\n"
     ]
    }
   ],
   "source": [
    "\n",
    "print(\"index\",\"categor\",\"p_X\",\"sample p_X\",sep=\"\\t\")\n",
    "for idx,c in  enumerate(categories):\n",
    "    p_hat=np.average(X==c)\n",
    "    print(idx,c,p_x[idx],p_hat,sep=\"\\t\")"
   ]
  },
  {
   "cell_type": "markdown",
   "metadata": {},
   "source": [
    "Looks close, but is it close enough?\n",
    "\n",
    "We can run [Pearson's]( https://en.wikipedia.org/wiki/Pearson%27s_chi-squared_test) $\\chi^2$ test\n",
    "\n",
    "$$\n",
    "C^2 = N \\sum_{d=1}^D\\frac{(\\hat{p}_d - p_d)^2}{p_d}\n",
    "$$\n",
    "\n",
    "where $\\hat{p}_d$ is the sample distribution and $p_d$ is the polulation distribution.\n",
    "\n",
    "If the sample is really generated from $p_k$ then\n",
    "\n",
    "$$\n",
    "    C^2 \\sim \\chi^2_{D-1}\n",
    "$$\n",
    "\n"
   ]
  },
  {
   "cell_type": "code",
   "execution_count": 13,
   "metadata": {
    "ExecuteTime": {
     "end_time": "2018-01-26T20:57:01.751588Z",
     "start_time": "2018-01-26T20:57:01.735567Z"
    }
   },
   "outputs": [
    {
     "data": {
      "text/plain": [
       "1.288499999999998"
      ]
     },
     "execution_count": 13,
     "metadata": {},
     "output_type": "execute_result"
    }
   ],
   "source": [
    "p_hat=Z_x.mean(axis=0)\n",
    "df=p_hat-p_x\n",
    "C2 = N*(df**2/p_x).sum()\n",
    "C2"
   ]
  },
  {
   "cell_type": "markdown",
   "metadata": {},
   "source": [
    "Probability that a $\\chi^2_{D-1}$ has a value this large"
   ]
  },
  {
   "cell_type": "code",
   "execution_count": 14,
   "metadata": {
    "ExecuteTime": {
     "end_time": "2018-01-26T20:57:01.763605Z",
     "start_time": "2018-01-26T20:57:01.751588Z"
    }
   },
   "outputs": [
    {
     "data": {
      "text/plain": [
       "0.7318656600943574"
      ]
     },
     "execution_count": 14,
     "metadata": {},
     "output_type": "execute_result"
    }
   ],
   "source": [
    "special.chdtrc(D-1,C2)"
   ]
  },
  {
   "cell_type": "markdown",
   "metadata": {},
   "source": [
    "## Generating a Dependent Categorical Variable"
   ]
  },
  {
   "cell_type": "markdown",
   "metadata": {},
   "source": [
    "We will now generate a new categorical value $Y$ where\n",
    "$$\n",
    "    P(Y=k | X=d) = P^y_{k,d}\n",
    "$$\n"
   ]
  },
  {
   "cell_type": "code",
   "execution_count": 15,
   "metadata": {
    "ExecuteTime": {
     "end_time": "2018-01-26T20:57:01.783631Z",
     "start_time": "2018-01-26T20:57:01.763605Z"
    }
   },
   "outputs": [
    {
     "name": "stdout",
     "output_type": "stream",
     "text": [
      "4 5\n"
     ]
    }
   ],
   "source": [
    "labels=np.array([\"a\",\"b\",\"c\",\"d\",\"e\"])\n",
    "\n",
    "K=len(labels)\n",
    "print(D,K)"
   ]
  },
  {
   "cell_type": "code",
   "execution_count": 55,
   "metadata": {
    "ExecuteTime": {
     "end_time": "2018-01-26T20:57:01.799653Z",
     "start_time": "2018-01-26T20:57:01.783631Z"
    }
   },
   "outputs": [],
   "source": [
    "# p_y is the   K * D matrix P(Y=k|X=d)\n",
    "p_y=np.array([\n",
    "    [ 0.1, 0.6, 0.05, 0.97],\n",
    "    [ 0.1, 0.2, 0.15, 0.01],\n",
    "    [ 0.7, 0.1, 0.2, 0.01],\n",
    "    [ 0.1, 0.095, 0.3, 0.01],\n",
    "    [ 0.0,  0.005, 0.3,  0]\n",
    "])\n"
   ]
  },
  {
   "cell_type": "markdown",
   "metadata": {},
   "source": [
    "Let's check the conditional probabilities are normalized correctly:\n",
    "$$\n",
    "\\sum_{k=1}^K P(Y=k| X=d) = 1\n",
    "$$"
   ]
  },
  {
   "cell_type": "code",
   "execution_count": 54,
   "metadata": {
    "ExecuteTime": {
     "end_time": "2018-01-26T20:57:01.819679Z",
     "start_time": "2018-01-26T20:57:01.799653Z"
    }
   },
   "outputs": [
    {
     "data": {
      "text/plain": [
       "array([1., 1., 1., 1.])"
      ]
     },
     "execution_count": 54,
     "metadata": {},
     "output_type": "execute_result"
    }
   ],
   "source": [
    "p_y.sum(axis=0)"
   ]
  },
  {
   "cell_type": "markdown",
   "metadata": {},
   "source": [
    "### Method 1"
   ]
  },
  {
   "cell_type": "markdown",
   "metadata": {},
   "source": [
    "We loop over each "
   ]
  },
  {
   "cell_type": "code",
   "execution_count": 18,
   "metadata": {
    "ExecuteTime": {
     "end_time": "2018-01-26T20:57:01.839707Z",
     "start_time": "2018-01-26T20:57:01.819679Z"
    }
   },
   "outputs": [
    {
     "data": {
      "text/plain": [
       "(1000, 5)"
      ]
     },
     "execution_count": 18,
     "metadata": {},
     "output_type": "execute_result"
    }
   ],
   "source": [
    "\n",
    "Z_y=np.empty((N,K))\n",
    "for i,x in enumerate(Z_x):    \n",
    "    p=np.dot(p_y,x) # this picks up the right column because x is one-hot\n",
    "    Z_y[i]=random.multinomial(1,p,1)\n",
    "\n",
    "Z_y.shape"
   ]
  },
  {
   "cell_type": "code",
   "execution_count": 19,
   "metadata": {
    "ExecuteTime": {
     "end_time": "2018-01-26T20:57:01.851721Z",
     "start_time": "2018-01-26T20:57:01.839707Z"
    }
   },
   "outputs": [
    {
     "data": {
      "text/plain": [
       "array([[0., 0., 1., 0., 0.],\n",
       "       [0., 0., 1., 0., 0.],\n",
       "       [0., 0., 1., 0., 0.],\n",
       "       [0., 0., 1., 0., 0.],\n",
       "       [1., 0., 0., 0., 0.],\n",
       "       [0., 0., 0., 1., 0.],\n",
       "       [0., 0., 1., 0., 0.],\n",
       "       [1., 0., 0., 0., 0.],\n",
       "       [0., 0., 0., 1., 0.],\n",
       "       [0., 0., 1., 0., 0.]])"
      ]
     },
     "execution_count": 19,
     "metadata": {},
     "output_type": "execute_result"
    }
   ],
   "source": [
    "Z_y[:10]"
   ]
  },
  {
   "cell_type": "code",
   "execution_count": 20,
   "metadata": {
    "ExecuteTime": {
     "end_time": "2018-01-26T20:57:01.891776Z",
     "start_time": "2018-01-26T20:57:01.851721Z"
    }
   },
   "outputs": [
    {
     "data": {
      "text/plain": [
       "array([0.26 , 0.146, 0.355, 0.159, 0.08 ])"
      ]
     },
     "execution_count": 20,
     "metadata": {},
     "output_type": "execute_result"
    }
   ],
   "source": [
    "Z_y.mean(axis=0)"
   ]
  },
  {
   "cell_type": "code",
   "execution_count": 21,
   "metadata": {
    "ExecuteTime": {
     "end_time": "2018-01-26T20:57:01.919812Z",
     "start_time": "2018-01-26T20:57:01.899787Z"
    }
   },
   "outputs": [
    {
     "data": {
      "text/plain": [
       "array(['c', 'c', 'c', 'c', 'a', 'd', 'c', 'a', 'd', 'c'], dtype='<U1')"
      ]
     },
     "execution_count": 21,
     "metadata": {},
     "output_type": "execute_result"
    }
   ],
   "source": [
    "Y=labels[Z_y.argmax(axis=1)]\n",
    "Y[:10]"
   ]
  },
  {
   "cell_type": "markdown",
   "metadata": {},
   "source": [
    "Let's look at $Y$s marginal probabilities\n",
    "$$\n",
    "    P(Y=k) = \\sum_d P(Y=k| X=d)*P(X=d)\n",
    "$$\n",
    "or, expressend in terms of the matrix components\n",
    "$$\n",
    "    p^M_k =\\sum_d P^y_{k,d} P^x_{d}  = P^Y * P^X\n",
    "$$\n",
    "where the last product is a matrix product"
   ]
  },
  {
   "cell_type": "code",
   "execution_count": 22,
   "metadata": {
    "ExecuteTime": {
     "end_time": "2018-01-26T20:57:01.947850Z",
     "start_time": "2018-01-26T20:57:01.927823Z"
    }
   },
   "outputs": [
    {
     "data": {
      "text/plain": [
       "array([0.281 , 0.138 , 0.3605, 0.144 , 0.0765])"
      ]
     },
     "execution_count": 22,
     "metadata": {},
     "output_type": "execute_result"
    }
   ],
   "source": [
    "P_M=np.dot(p_y,p_x)\n",
    "P_M"
   ]
  },
  {
   "cell_type": "markdown",
   "metadata": {},
   "source": [
    "Le'ts check that generated Y has the right marginal distribution"
   ]
  },
  {
   "cell_type": "code",
   "execution_count": 23,
   "metadata": {
    "ExecuteTime": {
     "end_time": "2018-01-26T20:57:01.967876Z",
     "start_time": "2018-01-26T20:57:01.947850Z"
    }
   },
   "outputs": [
    {
     "name": "stdout",
     "output_type": "stream",
     "text": [
      "index\tlabel\tp_Y\tsample p_Y\n",
      "0\ta\t0.281\t0.26\n",
      "1\tb\t0.138\t0.146\n",
      "2\tc\t0.36049999999999993\t0.355\n",
      "3\td\t0.14400000000000002\t0.159\n",
      "4\te\t0.0765\t0.08\n"
     ]
    }
   ],
   "source": [
    "print(\"index\",\"label\",\"p_Y\",\"sample p_Y\",sep=\"\\t\")\n",
    "for idx,c in  enumerate(labels):\n",
    "    print(idx,c,P_M[idx],np.average(Y==c),sep=\"\\t\")"
   ]
  },
  {
   "cell_type": "markdown",
   "metadata": {},
   "source": [
    "We can now compute the empirical (sample) join  distribution as\n",
    "$$\n",
    "        \\hat{P}(Y=k,X=d) =  \\frac{1}{N}\\sum_i z_{y\\ {i,k}} z_{x\\ {i,k}} = \\frac{1}{N} Z_Y^T * Z_X\n",
    "$$"
   ]
  },
  {
   "cell_type": "code",
   "execution_count": 24,
   "metadata": {
    "ExecuteTime": {
     "end_time": "2018-01-26T20:57:01.983900Z",
     "start_time": "2018-01-26T20:57:01.967876Z"
    }
   },
   "outputs": [
    {
     "data": {
      "text/plain": [
       "array([[0.046, 0.16 , 0.01 , 0.044],\n",
       "       [0.04 , 0.065, 0.041, 0.   ],\n",
       "       [0.282, 0.036, 0.036, 0.001],\n",
       "       [0.047, 0.031, 0.081, 0.   ],\n",
       "       [0.   , 0.005, 0.075, 0.   ]])"
      ]
     },
     "execution_count": 24,
     "metadata": {},
     "output_type": "execute_result"
    }
   ],
   "source": [
    "P_hat=np.dot(Z_y.T,Z_x)/N\n",
    "P_hat"
   ]
  },
  {
   "cell_type": "markdown",
   "metadata": {},
   "source": [
    "using bayes theorem  the true (population) probabilities should be\n",
    "\n",
    "$$ \n",
    "    P(Y=k,X=d) = P(Y=k|X=d)P(X=d) = P^y_{k,d} P^x_d\n",
    "$$"
   ]
  },
  {
   "cell_type": "code",
   "execution_count": 25,
   "metadata": {
    "ExecuteTime": {
     "end_time": "2018-01-26T20:57:01.999919Z",
     "start_time": "2018-01-26T20:57:01.983900Z"
    }
   },
   "outputs": [
    {
     "data": {
      "text/plain": [
       "(5, 4)"
      ]
     },
     "execution_count": 25,
     "metadata": {},
     "output_type": "execute_result"
    }
   ],
   "source": [
    "P_J = p_y*p_x\n",
    "P_J.shape"
   ]
  },
  {
   "cell_type": "code",
   "execution_count": 26,
   "metadata": {
    "ExecuteTime": {
     "end_time": "2018-01-26T20:57:02.015940Z",
     "start_time": "2018-01-26T20:57:01.999919Z"
    },
    "scrolled": true
   },
   "outputs": [
    {
     "data": {
      "text/plain": [
       "array([[0.04  , 0.18  , 0.0125, 0.0485],\n",
       "       [0.04  , 0.06  , 0.0375, 0.0005],\n",
       "       [0.28  , 0.03  , 0.05  , 0.0005],\n",
       "       [0.04  , 0.0285, 0.075 , 0.0005],\n",
       "       [0.    , 0.0015, 0.075 , 0.    ]])"
      ]
     },
     "execution_count": 26,
     "metadata": {},
     "output_type": "execute_result"
    }
   ],
   "source": [
    "P_J"
   ]
  },
  {
   "cell_type": "markdown",
   "metadata": {},
   "source": [
    "We can  compare sample and population means again using Pearson's test\n",
    "\n",
    "The following quantity\n",
    "\n",
    "$$\n",
    "    C^2=N \\sum_{k,d} \\frac{(\\hat{P}_{k,d} - P_{k,d})^2}{P_{k,d}} \n",
    "$$\n",
    "\n",
    "should be distributed as a $\\chi^2$ random variable with $ K \\times D -1$ degrees of freedom. "
   ]
  },
  {
   "cell_type": "code",
   "execution_count": 27,
   "metadata": {
    "ExecuteTime": {
     "end_time": "2018-01-26T20:57:02.027958Z",
     "start_time": "2018-01-26T20:57:02.015940Z"
    }
   },
   "outputs": [
    {
     "data": {
      "text/plain": [
       "21.508331955317846"
      ]
     },
     "execution_count": 27,
     "metadata": {},
     "output_type": "execute_result"
    }
   ],
   "source": [
    "# We need the floor there because of of P_J entries are zero\n",
    "C2 = N* ((P_hat-P_J)**2/np.maximum(1e-9,P_J)).sum()\n",
    "C2"
   ]
  },
  {
   "cell_type": "markdown",
   "metadata": {},
   "source": [
    "Let's look at its p-level"
   ]
  },
  {
   "cell_type": "code",
   "execution_count": 28,
   "metadata": {
    "ExecuteTime": {
     "end_time": "2018-01-26T20:57:02.043978Z",
     "start_time": "2018-01-26T20:57:02.027958Z"
    }
   },
   "outputs": [
    {
     "data": {
      "text/plain": [
       "0.3094041321784762"
      ]
     },
     "execution_count": 28,
     "metadata": {},
     "output_type": "execute_result"
    }
   ],
   "source": [
    "special.chdtrc(K*D-1,C2)"
   ]
  },
  {
   "cell_type": "markdown",
   "metadata": {},
   "source": [
    "So there is a high probability that $\\hat{P}$ was generated from $P$, as it should!"
   ]
  },
  {
   "cell_type": "markdown",
   "metadata": {},
   "source": [
    "### Method 2"
   ]
  },
  {
   "cell_type": "markdown",
   "metadata": {},
   "source": [
    "Looping in python is slow, so we would like to generate all the random variables in one go.\n",
    "\n",
    "We can do it by linearizing the join probability of X and Y, Define\n",
    "\n",
    "$$\n",
    "    P'_{n={D\\,k+d}} = P(Y=k,X=d)\n",
    "$$\n",
    "\n",
    "so that the index $n=1,\\cdots D\\times K$ runs through all posible combinations of $X$ and $Y$ values."
   ]
  },
  {
   "cell_type": "code",
   "execution_count": 29,
   "metadata": {
    "ExecuteTime": {
     "end_time": "2018-01-26T20:57:02.064006Z",
     "start_time": "2018-01-26T20:57:02.043978Z"
    }
   },
   "outputs": [
    {
     "name": "stdout",
     "output_type": "stream",
     "text": [
      "P_J.shape =  (20,)\n"
     ]
    },
    {
     "data": {
      "text/plain": [
       "array([0.04  , 0.18  , 0.0125, 0.0485, 0.04  , 0.06  , 0.0375, 0.0005,\n",
       "       0.28  , 0.03  , 0.05  , 0.0005, 0.04  , 0.0285, 0.075 , 0.0005,\n",
       "       0.    , 0.0015, 0.075 , 0.    ])"
      ]
     },
     "execution_count": 29,
     "metadata": {},
     "output_type": "execute_result"
    }
   ],
   "source": [
    "# linearize join_p\n",
    "P_J=P_J.ravel()\n",
    "print(\"P_J.shape = \",P_J.shape)\n",
    "P_J"
   ]
  },
  {
   "cell_type": "markdown",
   "metadata": {},
   "source": [
    "We can now genarate random variables with that $D\\times K$ categorical variable"
   ]
  },
  {
   "cell_type": "code",
   "execution_count": 30,
   "metadata": {
    "ExecuteTime": {
     "end_time": "2018-01-26T20:57:02.084031Z",
     "start_time": "2018-01-26T20:57:02.064006Z"
    }
   },
   "outputs": [
    {
     "name": "stdout",
     "output_type": "stream",
     "text": [
      "Z2.shape =  (1000, 20)\n"
     ]
    },
    {
     "data": {
      "text/plain": [
       "array([[0, 0, 0, 0, 0, 0, 0, 0, 0, 0, 1, 0, 0, 0, 0, 0, 0, 0, 0, 0],\n",
       "       [0, 0, 0, 0, 0, 0, 0, 0, 0, 0, 0, 0, 0, 0, 0, 0, 0, 0, 1, 0],\n",
       "       [0, 1, 0, 0, 0, 0, 0, 0, 0, 0, 0, 0, 0, 0, 0, 0, 0, 0, 0, 0]])"
      ]
     },
     "execution_count": 30,
     "metadata": {},
     "output_type": "execute_result"
    }
   ],
   "source": [
    "Z2=random.multinomial(1,P_J,N)\n",
    "print(\"Z2.shape = \",Z2.shape)\n",
    "Z2[:3]"
   ]
  },
  {
   "cell_type": "markdown",
   "metadata": {},
   "source": [
    "And, reshape it into a $N\\times K \\times D$ one-hot matrix where only one element of the matrix is not zero.\n",
    "\n",
    "The colum of the non-zero element is the value of $X$ label, and the row is the $Y$ label."
   ]
  },
  {
   "cell_type": "code",
   "execution_count": 31,
   "metadata": {
    "ExecuteTime": {
     "end_time": "2018-01-26T20:57:02.100055Z",
     "start_time": "2018-01-26T20:57:02.084031Z"
    }
   },
   "outputs": [
    {
     "name": "stdout",
     "output_type": "stream",
     "text": [
      "Z2.shape =  (1000, 5, 4)\n"
     ]
    },
    {
     "data": {
      "text/plain": [
       "array([[[0, 0, 0, 0],\n",
       "        [0, 0, 0, 0],\n",
       "        [0, 0, 1, 0],\n",
       "        [0, 0, 0, 0],\n",
       "        [0, 0, 0, 0]],\n",
       "\n",
       "       [[0, 0, 0, 0],\n",
       "        [0, 0, 0, 0],\n",
       "        [0, 0, 0, 0],\n",
       "        [0, 0, 0, 0],\n",
       "        [0, 0, 1, 0]],\n",
       "\n",
       "       [[0, 1, 0, 0],\n",
       "        [0, 0, 0, 0],\n",
       "        [0, 0, 0, 0],\n",
       "        [0, 0, 0, 0],\n",
       "        [0, 0, 0, 0]]])"
      ]
     },
     "execution_count": 31,
     "metadata": {},
     "output_type": "execute_result"
    }
   ],
   "source": [
    "\n",
    "Z2=Z2.reshape(N,K,D)\n",
    "print(\"Z2.shape = \",Z2.shape)\n",
    "Z2[:3]"
   ]
  },
  {
   "cell_type": "markdown",
   "metadata": {},
   "source": [
    "As before, we can easily get the joint empirical probabilities"
   ]
  },
  {
   "cell_type": "code",
   "execution_count": 32,
   "metadata": {
    "ExecuteTime": {
     "end_time": "2018-01-26T20:57:02.112069Z",
     "start_time": "2018-01-26T20:57:02.100055Z"
    }
   },
   "outputs": [
    {
     "data": {
      "text/plain": [
       "array([[0.042, 0.166, 0.008, 0.055],\n",
       "       [0.04 , 0.061, 0.035, 0.   ],\n",
       "       [0.262, 0.037, 0.055, 0.001],\n",
       "       [0.034, 0.029, 0.084, 0.   ],\n",
       "       [0.   , 0.001, 0.09 , 0.   ]])"
      ]
     },
     "execution_count": 32,
     "metadata": {},
     "output_type": "execute_result"
    }
   ],
   "source": [
    "Z2.mean(axis=0)"
   ]
  },
  {
   "cell_type": "markdown",
   "metadata": {},
   "source": [
    "Extraction the $X$ and $Y$ values is a bit of work "
   ]
  },
  {
   "cell_type": "code",
   "execution_count": 33,
   "metadata": {
    "ExecuteTime": {
     "end_time": "2018-01-26T20:57:02.128090Z",
     "start_time": "2018-01-26T20:57:02.112069Z"
    }
   },
   "outputs": [
    {
     "data": {
      "text/plain": [
       "array([2, 2, 1, 1, 1, 0, 0, 2, 1, 2, 0, 3, 2, 0, 1, 0, 0, 1, 0, 1])"
      ]
     },
     "execution_count": 33,
     "metadata": {},
     "output_type": "execute_result"
    }
   ],
   "source": [
    "X1=Z2.argmax(axis=2) # column of the on (1) value\n",
    "X=X1.max(axis=1) # flatten array\n",
    "X[:20]"
   ]
  },
  {
   "cell_type": "code",
   "execution_count": 34,
   "metadata": {
    "ExecuteTime": {
     "end_time": "2018-01-26T20:57:02.144112Z",
     "start_time": "2018-01-26T20:57:02.128090Z"
    }
   },
   "outputs": [
    {
     "data": {
      "text/plain": [
       "array([2, 4, 0, 0, 0, 2, 0, 4, 1, 3, 2, 0, 4, 0, 0, 2, 2, 1, 3, 2])"
      ]
     },
     "execution_count": 34,
     "metadata": {},
     "output_type": "execute_result"
    }
   ],
   "source": [
    "Y1=Z2.argmax(axis=1) # row of the on (1) value\n",
    "Y=Y1.max(axis=1)\n",
    "\n",
    "Y[:20]"
   ]
  },
  {
   "cell_type": "markdown",
   "metadata": {},
   "source": [
    "### Performance Comparison"
   ]
  },
  {
   "cell_type": "markdown",
   "metadata": {},
   "source": [
    "#### Generate X and Y one by one"
   ]
  },
  {
   "cell_type": "code",
   "execution_count": 35,
   "metadata": {
    "ExecuteTime": {
     "end_time": "2018-01-26T20:57:02.319180Z",
     "start_time": "2018-01-26T20:57:02.144112Z"
    }
   },
   "outputs": [
    {
     "name": "stdout",
     "output_type": "stream",
     "text": [
      "5.84 ms ± 923 µs per loop (mean ± std. dev. of 5 runs, 5 loops each)\n"
     ]
    }
   ],
   "source": [
    "%%timeit -n 5 -r 5\n",
    "x=np.empty((N,D))\n",
    "Z=np.empty((N,K))\n",
    "for i1 in range(N):\n",
    "    x[i1]=random.multinomial(1,p_x)\n",
    "    prob=np.dot(p_y,x[i1])\n",
    "    Z[idx]=random.multinomial(1,prob,1)\n",
    "Y=Z.argmax(axis=1)\n",
    "Z.shape"
   ]
  },
  {
   "cell_type": "markdown",
   "metadata": {},
   "source": [
    "#### Vectorize X, generate Y one by one"
   ]
  },
  {
   "cell_type": "code",
   "execution_count": 36,
   "metadata": {
    "ExecuteTime": {
     "end_time": "2018-01-26T20:57:02.447350Z",
     "start_time": "2018-01-26T20:57:02.319180Z"
    }
   },
   "outputs": [
    {
     "name": "stdout",
     "output_type": "stream",
     "text": [
      "3.21 ms ± 264 µs per loop (mean ± std. dev. of 5 runs, 5 loops each)\n"
     ]
    }
   ],
   "source": [
    "%%timeit -n 5 -r 5\n",
    "x=random.multinomial(1,p_x,N)\n",
    "Z=np.empty((N,K))\n",
    "for idx,s in enumerate(x):\n",
    "    prob=np.dot(p_y,s)\n",
    "    Z[idx]=random.multinomial(1,prob,1)\n",
    "Y=Z.argmax(axis=1)\n",
    "Z.shape"
   ]
  },
  {
   "cell_type": "markdown",
   "metadata": {},
   "source": [
    "#### Vectorize X and Y"
   ]
  },
  {
   "cell_type": "code",
   "execution_count": 37,
   "metadata": {
    "ExecuteTime": {
     "end_time": "2018-01-26T20:57:02.475386Z",
     "start_time": "2018-01-26T20:57:02.447350Z"
    }
   },
   "outputs": [
    {
     "name": "stdout",
     "output_type": "stream",
     "text": [
      "791 µs ± 40.1 µs per loop (mean ± std. dev. of 5 runs, 5 loops each)\n"
     ]
    }
   ],
   "source": [
    "%%timeit -n 5 -r 5\n",
    "\n",
    "Z2=random.multinomial(1,P_J,N)\n",
    "Z2=Z2.reshape(N,K,D)\n",
    "X1=Z2.argmax(axis=2)\n",
    "X=X1.max(axis=1)\n",
    "Y1=Z2.argmax(axis=1)\n",
    "Y=Y1.max(axis=1)"
   ]
  },
  {
   "cell_type": "markdown",
   "metadata": {},
   "source": [
    "The second method is **5 to 10 times faster**!\n",
    "\n",
    "In general, you should **avoid python for loops** that run over large ammounts of data. They are slow.\n",
    "\n",
    "Specially loops over the sample size (that can be large) are problematic"
   ]
  },
  {
   "cell_type": "markdown",
   "metadata": {},
   "source": [
    "### A Function to Generate Conditionaly Dependent Categorial Variables"
   ]
  },
  {
   "cell_type": "code",
   "execution_count": 38,
   "metadata": {
    "ExecuteTime": {
     "end_time": "2018-01-26T20:57:02.487400Z",
     "start_time": "2018-01-26T20:57:02.475386Z"
    }
   },
   "outputs": [],
   "source": [
    "def generate_conditional_categorical(p_X,p_Y, X_labels,Y_labels,N):\n",
    "    P_J=(p_Y*p_X).ravel()\n",
    "    Z2=random.multinomial(1,P_J,N)\n",
    "    Z2=Z2.reshape(N,K,D)\n",
    "    X1=Z2.argmax(axis=2) # find wich index in Z2 is not zero\n",
    "    X=X1.max(axis=1) # return the index, colapsing one dimension\n",
    "    Y1=Z2.argmax(axis=1)\n",
    "    Y=Y1.max(axis=1)\n",
    "    return X_labels[X],Y_labels[Y]"
   ]
  },
  {
   "cell_type": "code",
   "execution_count": 39,
   "metadata": {
    "ExecuteTime": {
     "end_time": "2018-01-26T20:57:02.507428Z",
     "start_time": "2018-01-26T20:57:02.491407Z"
    }
   },
   "outputs": [
    {
     "name": "stdout",
     "output_type": "stream",
     "text": [
      "X,Y shapes = (1000,) (1000,)\n"
     ]
    }
   ],
   "source": [
    "X,Y=generate_conditional_categorical(p_x,p_y,categories,labels,N)\n",
    "print(\"X,Y shapes =\",X.shape,Y.shape)"
   ]
  },
  {
   "cell_type": "code",
   "execution_count": 40,
   "metadata": {
    "ExecuteTime": {
     "end_time": "2018-01-26T20:57:02.527454Z",
     "start_time": "2018-01-26T20:57:02.507428Z"
    }
   },
   "outputs": [
    {
     "data": {
      "text/plain": [
       "(array(['C', 'C', 'A', 'C', 'A'], dtype='<U1'),\n",
       " array(['d', 'd', 'c', 'c', 'b'], dtype='<U1'))"
      ]
     },
     "execution_count": 40,
     "metadata": {},
     "output_type": "execute_result"
    }
   ],
   "source": [
    "X[:5],Y[:5]"
   ]
  },
  {
   "cell_type": "markdown",
   "metadata": {},
   "source": [
    "### Save generated data"
   ]
  },
  {
   "cell_type": "markdown",
   "metadata": {},
   "source": [
    "First we join X and Y into an Nx2 array"
   ]
  },
  {
   "cell_type": "code",
   "execution_count": 41,
   "metadata": {
    "ExecuteTime": {
     "end_time": "2018-01-26T20:57:02.547481Z",
     "start_time": "2018-01-26T20:57:02.527454Z"
    }
   },
   "outputs": [
    {
     "name": "stdout",
     "output_type": "stream",
     "text": [
      "data.shape =  (1000, 2)\n"
     ]
    },
    {
     "data": {
      "text/plain": [
       "array([['C', 'd'],\n",
       "       ['C', 'd'],\n",
       "       ['A', 'c'],\n",
       "       ['C', 'c'],\n",
       "       ['A', 'b']], dtype='<U1')"
      ]
     },
     "execution_count": 41,
     "metadata": {},
     "output_type": "execute_result"
    }
   ],
   "source": [
    "data=np.c_[X,Y]\n",
    "print(\"data.shape = \",data.shape)\n",
    "data[:5]"
   ]
  },
  {
   "cell_type": "markdown",
   "metadata": {},
   "source": [
    "Next we create a Panda's data frame"
   ]
  },
  {
   "cell_type": "code",
   "execution_count": 42,
   "metadata": {
    "ExecuteTime": {
     "end_time": "2018-01-26T20:57:02.567508Z",
     "start_time": "2018-01-26T20:57:02.547481Z"
    }
   },
   "outputs": [
    {
     "data": {
      "text/html": [
       "<div>\n",
       "<style scoped>\n",
       "    .dataframe tbody tr th:only-of-type {\n",
       "        vertical-align: middle;\n",
       "    }\n",
       "\n",
       "    .dataframe tbody tr th {\n",
       "        vertical-align: top;\n",
       "    }\n",
       "\n",
       "    .dataframe thead th {\n",
       "        text-align: right;\n",
       "    }\n",
       "</style>\n",
       "<table border=\"1\" class=\"dataframe\">\n",
       "  <thead>\n",
       "    <tr style=\"text-align: right;\">\n",
       "      <th></th>\n",
       "      <th>X</th>\n",
       "      <th>Y</th>\n",
       "    </tr>\n",
       "  </thead>\n",
       "  <tbody>\n",
       "    <tr>\n",
       "      <th>0</th>\n",
       "      <td>C</td>\n",
       "      <td>d</td>\n",
       "    </tr>\n",
       "    <tr>\n",
       "      <th>1</th>\n",
       "      <td>C</td>\n",
       "      <td>d</td>\n",
       "    </tr>\n",
       "    <tr>\n",
       "      <th>2</th>\n",
       "      <td>A</td>\n",
       "      <td>c</td>\n",
       "    </tr>\n",
       "    <tr>\n",
       "      <th>3</th>\n",
       "      <td>C</td>\n",
       "      <td>c</td>\n",
       "    </tr>\n",
       "    <tr>\n",
       "      <th>4</th>\n",
       "      <td>A</td>\n",
       "      <td>b</td>\n",
       "    </tr>\n",
       "  </tbody>\n",
       "</table>\n",
       "</div>"
      ],
      "text/plain": [
       "   X  Y\n",
       "0  C  d\n",
       "1  C  d\n",
       "2  A  c\n",
       "3  C  c\n",
       "4  A  b"
      ]
     },
     "execution_count": 42,
     "metadata": {},
     "output_type": "execute_result"
    }
   ],
   "source": [
    "df=pd.DataFrame(data,columns=[\"X\",\"Y\"])\n",
    "df.head()"
   ]
  },
  {
   "cell_type": "markdown",
   "metadata": {},
   "source": [
    "And we save it for later"
   ]
  },
  {
   "cell_type": "code",
   "execution_count": 43,
   "metadata": {
    "ExecuteTime": {
     "end_time": "2018-01-26T20:57:02.587534Z",
     "start_time": "2018-01-26T20:57:02.567508Z"
    }
   },
   "outputs": [],
   "source": [
    "df.to_csv(data_dir+\"/dependent_categorical.csv\",\n",
    "          index=False)"
   ]
  },
  {
   "cell_type": "markdown",
   "metadata": {},
   "source": [
    "#### Save Test Data"
   ]
  },
  {
   "cell_type": "markdown",
   "metadata": {},
   "source": [
    "Data Generated using the same $P(X)$ and $P(Y|X)$"
   ]
  },
  {
   "cell_type": "code",
   "execution_count": 44,
   "metadata": {
    "ExecuteTime": {
     "end_time": "2018-01-26T20:57:02.599550Z",
     "start_time": "2018-01-26T20:57:02.587534Z"
    }
   },
   "outputs": [
    {
     "name": "stdout",
     "output_type": "stream",
     "text": [
      "X,Y shapes = (250,) (250,)\n"
     ]
    }
   ],
   "source": [
    "X_test,Y_test=generate_conditional_categorical(p_x,p_y,categories,labels,int(0.25*N))\n",
    "print(\"X,Y shapes =\",X_test.shape,Y_test.shape)"
   ]
  },
  {
   "cell_type": "code",
   "execution_count": 45,
   "metadata": {
    "ExecuteTime": {
     "end_time": "2018-01-26T20:57:02.623582Z",
     "start_time": "2018-01-26T20:57:02.599550Z"
    }
   },
   "outputs": [],
   "source": [
    "test_data=np.c_[X_test,Y_test]\n",
    "df_test=pd.DataFrame(test_data,columns=[\"X\",\"Y\"])\n",
    "df_test.to_csv(data_dir+\"/dependent_categorical_test1.csv\",\n",
    "          index=False)"
   ]
  },
  {
   "cell_type": "markdown",
   "metadata": {},
   "source": [
    "Data generated with different $P(X)$ probability distribution, but same $P(Y|X)$"
   ]
  },
  {
   "cell_type": "code",
   "execution_count": 46,
   "metadata": {
    "ExecuteTime": {
     "end_time": "2018-01-26T20:57:02.639609Z",
     "start_time": "2018-01-26T20:57:02.623582Z"
    }
   },
   "outputs": [],
   "source": [
    "p1_x=np.array([0.3,0.4,0.2,0.1])"
   ]
  },
  {
   "cell_type": "code",
   "execution_count": 47,
   "metadata": {
    "ExecuteTime": {
     "end_time": "2018-01-26T20:57:02.663635Z",
     "start_time": "2018-01-26T20:57:02.643609Z"
    }
   },
   "outputs": [],
   "source": [
    "X_test,Y_test=generate_conditional_categorical(p1_x,p_y,categories,labels,int(0.25*N))\n",
    "test_data=np.c_[X_test,Y_test]\n",
    "df_test=pd.DataFrame(test_data,columns=[\"X\",\"Y\"])\n",
    "df_test.to_csv(data_dir+\"/dependent_categorical_test2.csv\",\n",
    "          index=False)"
   ]
  },
  {
   "cell_type": "markdown",
   "metadata": {},
   "source": [
    "Data generated with same  P(X)  probability distribution, but different  $P(Y|X)$"
   ]
  },
  {
   "cell_type": "code",
   "execution_count": 48,
   "metadata": {
    "ExecuteTime": {
     "end_time": "2018-01-26T20:57:02.683663Z",
     "start_time": "2018-01-26T20:57:02.667642Z"
    }
   },
   "outputs": [],
   "source": [
    "p1_y=np.array([\n",
    "    [ 0.3, 0.4, 0.05, 0.97],\n",
    "    [ 0.1, 0.2, 0.15, 0.01],\n",
    "    [ 0.5, 0.3, 0.1, 0.01],\n",
    "    [ 0.1, 0.095, 0.1, 0.01],\n",
    "    [ 0.0,  0.005, 0.5,  0]\n",
    "])"
   ]
  },
  {
   "cell_type": "code",
   "execution_count": 49,
   "metadata": {
    "ExecuteTime": {
     "end_time": "2018-01-26T20:57:02.707694Z",
     "start_time": "2018-01-26T20:57:02.687667Z"
    }
   },
   "outputs": [],
   "source": [
    "X_test,Y_test=generate_conditional_categorical(p_x,p1_y,categories,labels,int(0.25*N))\n",
    "test_data=np.c_[X_test,Y_test]\n",
    "df_test=pd.DataFrame(test_data,columns=[\"X\",\"Y\"])\n",
    "df_test.to_csv(data_dir+\"/dependent_categorical_test3.csv\",\n",
    "          index=False)"
   ]
  },
  {
   "cell_type": "markdown",
   "metadata": {},
   "source": [
    "Data generated with diffent P(X) probability distribution and  different  $P(Y|X)$"
   ]
  },
  {
   "cell_type": "code",
   "execution_count": 50,
   "metadata": {
    "ExecuteTime": {
     "end_time": "2018-01-26T20:57:02.723716Z",
     "start_time": "2018-01-26T20:57:02.707694Z"
    }
   },
   "outputs": [],
   "source": [
    "X_test,Y_test=generate_conditional_categorical(p1_x,p1_y,categories,labels,int(0.25*N))\n",
    "test_data=np.c_[X_test,Y_test]\n",
    "df_test=pd.DataFrame(test_data,columns=[\"X\",\"Y\"])\n",
    "df_test.to_csv(data_dir+\"/dependent_categorical_test4.csv\",\n",
    "          index=False)"
   ]
  },
  {
   "cell_type": "markdown",
   "metadata": {
    "ExecuteTime": {
     "end_time": "2018-01-26T10:25:02.742890Z",
     "start_time": "2018-01-26T10:25:02.729856Z"
    }
   },
   "source": [
    "### For Homework"
   ]
  },
  {
   "cell_type": "code",
   "execution_count": 51,
   "metadata": {
    "ExecuteTime": {
     "end_time": "2018-01-26T20:57:02.739737Z",
     "start_time": "2018-01-26T20:57:02.723716Z"
    }
   },
   "outputs": [],
   "source": [
    "p2_y=np.array([\n",
    "    [0.2,0.2,0.2,0.2],\n",
    "    [0.2,0.2,0.2,0.2],\n",
    "    [0.2,0.2,0.2,0.2],\n",
    "    [0.2,0.2,0.2,0.2],\n",
    "    [0.2,0.2,0.2,0.2]\n",
    "     ])"
   ]
  },
  {
   "cell_type": "code",
   "execution_count": 52,
   "metadata": {
    "ExecuteTime": {
     "end_time": "2018-01-26T20:57:02.759763Z",
     "start_time": "2018-01-26T20:57:02.739737Z"
    }
   },
   "outputs": [],
   "source": [
    "X_homework2,Y_homework2=generate_conditional_categorical(p1_x,p2_y,categories,labels,int(N))\n",
    "homework_data=np.c_[X_homework2,Y_homework2]\n",
    "df_homework=pd.DataFrame(homework_data,columns=[\"X\",\"Y\"])\n",
    "df_homework.to_csv(data_dir+\"/homework.csv\",\n",
    "          index=False)"
   ]
  },
  {
   "cell_type": "code",
   "execution_count": null,
   "metadata": {},
   "outputs": [],
   "source": []
  }
 ],
 "metadata": {
  "kernelspec": {
   "display_name": "Python 3",
   "language": "python",
   "name": "python3"
  },
  "language_info": {
   "codemirror_mode": {
    "name": "ipython",
    "version": 3
   },
   "file_extension": ".py",
   "mimetype": "text/x-python",
   "name": "python",
   "nbconvert_exporter": "python",
   "pygments_lexer": "ipython3",
   "version": "3.6.4"
  },
  "toc": {
   "nav_menu": {},
   "number_sections": true,
   "sideBar": true,
   "skip_h1_title": false,
   "toc_cell": false,
   "toc_position": {},
   "toc_section_display": "block",
   "toc_window_display": true
  }
 },
 "nbformat": 4,
 "nbformat_minor": 2
}
